{
 "cells": [
  {
   "cell_type": "markdown",
   "metadata": {},
   "source": [
    "Part 1"
   ]
  },
  {
   "cell_type": "code",
   "execution_count": 23,
   "metadata": {},
   "outputs": [],
   "source": [
    "valids = []\n",
    "for i in range(152085,670284):\n",
    "    num = str(i)\n",
    "    samedigit = False\n",
    "    decreasing = True\n",
    "    for j in range(5):\n",
    "        if num[j] > num[j+1]:\n",
    "            decreasing = False\n",
    "        if num[j] == num[j+1]:\n",
    "            samedigit = True\n",
    "    if samedigit == True and decreasing == True:\n",
    "        valids.append(num)"
   ]
  },
  {
   "cell_type": "code",
   "execution_count": 24,
   "metadata": {},
   "outputs": [
    {
     "data": {
      "text/plain": [
       "1764"
      ]
     },
     "execution_count": 24,
     "metadata": {},
     "output_type": "execute_result"
    }
   ],
   "source": [
    "len(valids)"
   ]
  },
  {
   "cell_type": "markdown",
   "metadata": {},
   "source": [
    "Part 2"
   ]
  },
  {
   "cell_type": "code",
   "execution_count": 50,
   "metadata": {},
   "outputs": [],
   "source": [
    "from itertools import groupby"
   ]
  },
  {
   "cell_type": "code",
   "execution_count": 58,
   "metadata": {},
   "outputs": [],
   "source": [
    "valids = []\n",
    "for i in range(152085,670284):\n",
    "    num = str(i)\n",
    "    samedigit = False\n",
    "    decreasing = True\n",
    "    for j in range(5):\n",
    "        if num[j] > num[j+1]:\n",
    "            decreasing = False\n",
    "    if 2 in [len(list(g)) for k, g in groupby(num)]:\n",
    "        samedigit = True\n",
    "    if samedigit == True and decreasing == True:\n",
    "        valids.append(num)"
   ]
  },
  {
   "cell_type": "code",
   "execution_count": 59,
   "metadata": {},
   "outputs": [
    {
     "data": {
      "text/plain": [
       "1196"
      ]
     },
     "execution_count": 59,
     "metadata": {},
     "output_type": "execute_result"
    }
   ],
   "source": [
    "len(valids)"
   ]
  },
  {
   "cell_type": "code",
   "execution_count": null,
   "metadata": {},
   "outputs": [],
   "source": []
  }
 ],
 "metadata": {
  "kernelspec": {
   "display_name": "Python 3",
   "language": "python",
   "name": "python3"
  },
  "language_info": {
   "codemirror_mode": {
    "name": "ipython",
    "version": 3
   },
   "file_extension": ".py",
   "mimetype": "text/x-python",
   "name": "python",
   "nbconvert_exporter": "python",
   "pygments_lexer": "ipython3",
   "version": "3.7.4"
  }
 },
 "nbformat": 4,
 "nbformat_minor": 2
}
