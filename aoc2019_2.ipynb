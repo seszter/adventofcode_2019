{
 "cells": [
  {
   "cell_type": "code",
   "execution_count": 114,
   "metadata": {},
   "outputs": [],
   "source": [
    "intcode = \"\"\"1,0,0,3,1,1,2,3,1,3,4,3,1,5,0,3,2,6,1,19,1,19,5,23,2,9,23,27,1,5,27,31,1,5,31,35,1,35,13,39,1,39,9,43,1,5,43,47,1,47,6,51,1,51,13,55,1,55,9,59,1,59,13,63,2,63,13,67,1,67,10,71,1,71,6,75,2,10,75,79,2,10,79,83,1,5,83,87,2,6,87,91,1,91,6,95,1,95,13,99,2,99,13,103,1,103,9,107,1,10,107,111,2,111,13,115,1,10,115,119,1,10,119,123,2,13,123,127,2,6,127,131,1,13,131,135,1,135,2,139,1,139,6,0,99,2,0,14,0\"\"\"\n",
    "\n",
    "intcode = [int(x) for x in intcode.split(',')]"
   ]
  },
  {
   "cell_type": "markdown",
   "metadata": {},
   "source": [
    "Part 1"
   ]
  },
  {
   "cell_type": "code",
   "execution_count": 115,
   "metadata": {},
   "outputs": [],
   "source": [
    "intcode[1] = 12\n",
    "intcode[2] = 2"
   ]
  },
  {
   "cell_type": "code",
   "execution_count": 116,
   "metadata": {},
   "outputs": [],
   "source": [
    "intcode = intcode + [0,0,0]"
   ]
  },
  {
   "cell_type": "code",
   "execution_count": 64,
   "metadata": {},
   "outputs": [],
   "source": [
    "for i in range(0,len(intcode)-3,4):\n",
    "    if intcode[i] == 99:\n",
    "        break\n",
    "    elif intcode[i] == 1:\n",
    "        intcode[intcode[i+3]] = intcode[intcode[i+1]] + intcode[intcode[i+2]]\n",
    "    elif intcode[i] == 2:\n",
    "        intcode[intcode[i+3]] = intcode[intcode[i+1]] * intcode[intcode[i+2]]\n",
    "\n"
   ]
  },
  {
   "cell_type": "code",
   "execution_count": 66,
   "metadata": {},
   "outputs": [
    {
     "data": {
      "text/plain": [
       "4090689"
      ]
     },
     "execution_count": 66,
     "metadata": {},
     "output_type": "execute_result"
    }
   ],
   "source": [
    "intcode[0]"
   ]
  },
  {
   "cell_type": "markdown",
   "metadata": {},
   "source": [
    "Part 2"
   ]
  },
  {
   "cell_type": "code",
   "execution_count": 112,
   "metadata": {},
   "outputs": [],
   "source": [
    "def compute(orig_intcode):\n",
    "    intcode = orig_intcode\n",
    "    for i in range(0,len(intcode)-3,4):\n",
    "        if intcode[i] == 99:\n",
    "            return intcode[0]\n",
    "        elif intcode[i] == 1:\n",
    "            intcode[intcode[i+3]] = intcode[intcode[i+1]] + intcode[intcode[i+2]]\n",
    "        elif intcode[i] == 2:\n",
    "            intcode[intcode[i+3]] = intcode[intcode[i+1]] * intcode[intcode[i+2]]\n",
    "    return intcode[0]"
   ]
  },
  {
   "cell_type": "code",
   "execution_count": 144,
   "metadata": {},
   "outputs": [
    {
     "name": "stdout",
     "output_type": "stream",
     "text": [
      "77 33 19690720\n"
     ]
    }
   ],
   "source": [
    "for j in range(500):\n",
    "    for k in range(500):\n",
    "        orig_intcode = \"\"\"1,0,0,3,1,1,2,3,1,3,4,3,1,5,0,3,2,6,1,19,1,19,5,23,2,9,23,27,1,5,27,31,1,5,31,35,1,35,13,39,1,39,9,43,1,5,43,47,1,47,6,51,1,51,13,55,1,55,9,59,1,59,13,63,2,63,13,67,1,67,10,71,1,71,6,75,2,10,75,79,2,10,79,83,1,5,83,87,2,6,87,91,1,91,6,95,1,95,13,99,2,99,13,103,1,103,9,107,1,10,107,111,2,111,13,115,1,10,115,119,1,10,119,123,2,13,123,127,2,6,127,131,1,13,131,135,1,135,2,139,1,139,6,0,99,2,0,14,0\"\"\"\n",
    "        orig_intcode = [int(x) for x in orig_intcode.split(',')]\n",
    "        orig_intcode = orig_intcode + [0]*1000\n",
    "\n",
    "        orig_intcode[1] = j\n",
    "        orig_intcode[2] = k\n",
    "        a = compute(orig_intcode)\n",
    "        if a >= 19690720:\n",
    "            print(j,k,a)\n",
    "            break\n",
    "    if a == 19690720:\n",
    "        break"
   ]
  },
  {
   "cell_type": "code",
   "execution_count": 143,
   "metadata": {},
   "outputs": [
    {
     "data": {
      "text/plain": [
       "7733"
      ]
     },
     "execution_count": 143,
     "metadata": {},
     "output_type": "execute_result"
    }
   ],
   "source": [
    "100*77+33"
   ]
  },
  {
   "cell_type": "code",
   "execution_count": null,
   "metadata": {},
   "outputs": [],
   "source": []
  }
 ],
 "metadata": {
  "kernelspec": {
   "display_name": "Python 3",
   "language": "python",
   "name": "python3"
  },
  "language_info": {
   "codemirror_mode": {
    "name": "ipython",
    "version": 3
   },
   "file_extension": ".py",
   "mimetype": "text/x-python",
   "name": "python",
   "nbconvert_exporter": "python",
   "pygments_lexer": "ipython3",
   "version": "3.7.3"
  }
 },
 "nbformat": 4,
 "nbformat_minor": 2
}
